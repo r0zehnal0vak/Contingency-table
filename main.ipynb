{
 "cells": [
  {
   "cell_type": "markdown",
   "id": "25755323",
   "metadata": {},
   "source": [
    "### 3. Analýza známek u studijní skupiny (gql_ug + gql_granting).\n",
    "\n",
    "Jako parametr vezme definici kontingenční tabulky, GQL dotaz, dotaz zrealizuje, a data vloží do sešitu Excel spolu s kontingenční tabulkou. Vytvořte jako FastAPI službu.\n",
    "\n",
    "Společné podmínky\n",
    "- Vytvořit GQL dotaz na základě existující federace,\n",
    "- Definovat transformaci GQL response -> table rows (vstup pro kontingenční tabulku)\n",
    "- Vytvořit kontingenční tabulku\n",
    "- Vytvořit koláčový / sloupcový graf\n",
    "- Vytvořit Sunburst / Chord graf\n",
    "- Výsledek realizujte jako ipynb notebook (autentizace jménem a heslem, realizace aiohttp, transformace response, vytvoření tabulky, vytvoření grafu)."
   ]
  },
  {
   "cell_type": "code",
   "execution_count": 1,
   "id": "39a47941",
   "metadata": {},
   "outputs": [
    {
     "name": "stdout",
     "output_type": "stream",
     "text": [
      "hello\n"
     ]
    }
   ],
   "source": [
    "print(\"hello\")"
   ]
  },
  {
   "cell_type": "code",
   "execution_count": 11,
   "id": "8feefbce",
   "metadata": {},
   "outputs": [],
   "source": [
    "import aiohttp\n",
    "import asyncio"
   ]
  },
  {
   "cell_type": "code",
   "execution_count": 13,
   "id": "db9d6588",
   "metadata": {},
   "outputs": [],
   "source": [
    "gql_query = \"\"\"\n",
    "query {\n",
    "\tacClassificationPage {\n",
    "  \tid\n",
    "  \tstudent {\n",
    "    \tid\n",
    "    \temail\n",
    "    \tfullname\n",
    "    \tname\n",
    "    \tsurname\n",
    "  \t}\n",
    "  \tsemester {\n",
    "    \tid\n",
    "    \torder\n",
    "    \tsubject {\n",
    "      \tid\n",
    "      \tname\n",
    "      \tprogram {\n",
    "        \tid\n",
    "        \tname\n",
    "      \t}\n",
    "    \t}\n",
    "  \t}\n",
    "  \tlevel {\n",
    "    \tid\n",
    "    \tname\n",
    "  \t}\n",
    "\t\tdate\n",
    "  \torder\n",
    "  }\n",
    "}\n",
    "\"\"\""
   ]
  },
  {
   "cell_type": "code",
   "execution_count": 14,
   "id": "8beacb3f",
   "metadata": {},
   "outputs": [
    {
     "name": "stderr",
     "output_type": "stream",
     "text": [
      "Exception ignored in: <coroutine object main at 0x0000018E49E0C040>\n",
      "Traceback (most recent call last):\n",
      "  File \"<string>\", line 1, in <lambda>\n",
      "KeyError: '__import__'\n",
      "Exception ignored in: <coroutine object main at 0x0000018E49E0C040>\n",
      "Traceback (most recent call last):\n",
      "  File \"<string>\", line 1, in <lambda>\n",
      "KeyError: '__import__'\n",
      "Exception ignored in: <coroutine object main at 0x0000018E4B6F7610>\n",
      "Traceback (most recent call last):\n",
      "  File \"<string>\", line 1, in <lambda>\n",
      "KeyError: '__import__'\n"
     ]
    },
    {
     "ename": "ValueError",
     "evalue": "URL should be absolute",
     "output_type": "error",
     "traceback": [
      "\u001b[1;31m---------------------------------------------------------------------------\u001b[0m",
      "\u001b[1;31mValueError\u001b[0m                                Traceback (most recent call last)",
      "Input \u001b[1;32mIn [14]\u001b[0m, in \u001b[0;36m<cell line: 11>\u001b[1;34m()\u001b[0m\n\u001b[0;32m      8\u001b[0m     response_data \u001b[38;5;241m=\u001b[39m \u001b[38;5;28;01mawait\u001b[39;00m send_gql_query()\n\u001b[0;32m      9\u001b[0m     \u001b[38;5;28mprint\u001b[39m(response_data)\n\u001b[1;32m---> 11\u001b[0m \u001b[38;5;28;01mawait\u001b[39;00m main()\n",
      "Input \u001b[1;32mIn [14]\u001b[0m, in \u001b[0;36mmain\u001b[1;34m()\u001b[0m\n\u001b[0;32m      7\u001b[0m \u001b[38;5;28;01masync\u001b[39;00m \u001b[38;5;28;01mdef\u001b[39;00m \u001b[38;5;21mmain\u001b[39m():\n\u001b[1;32m----> 8\u001b[0m     response_data \u001b[38;5;241m=\u001b[39m \u001b[38;5;28;01mawait\u001b[39;00m send_gql_query()\n\u001b[0;32m      9\u001b[0m     \u001b[38;5;28mprint\u001b[39m(response_data)\n",
      "Input \u001b[1;32mIn [14]\u001b[0m, in \u001b[0;36msend_gql_query\u001b[1;34m()\u001b[0m\n\u001b[0;32m      1\u001b[0m \u001b[38;5;28;01masync\u001b[39;00m \u001b[38;5;28;01mdef\u001b[39;00m \u001b[38;5;21msend_gql_query\u001b[39m():\n\u001b[0;32m      2\u001b[0m     \u001b[38;5;28;01masync\u001b[39;00m \u001b[38;5;28;01mwith\u001b[39;00m aiohttp\u001b[38;5;241m.\u001b[39mClientSession() \u001b[38;5;28;01mas\u001b[39;00m session:\n\u001b[1;32m----> 3\u001b[0m         \u001b[38;5;28;01masync\u001b[39;00m \u001b[38;5;28;01mwith\u001b[39;00m session\u001b[38;5;241m.\u001b[39mpost(\u001b[38;5;124m'\u001b[39m\u001b[38;5;124mhhttp://localhost:33001/graphiql/\u001b[39m\u001b[38;5;124m'\u001b[39m, json\u001b[38;5;241m=\u001b[39m{\u001b[38;5;124m'\u001b[39m\u001b[38;5;124mquery\u001b[39m\u001b[38;5;124m'\u001b[39m: gql_query}) \u001b[38;5;28;01mas\u001b[39;00m response:\n\u001b[0;32m      4\u001b[0m             data \u001b[38;5;241m=\u001b[39m \u001b[38;5;28;01mawait\u001b[39;00m response\u001b[38;5;241m.\u001b[39mjson()\n\u001b[0;32m      5\u001b[0m     \u001b[38;5;28;01mreturn\u001b[39;00m data\n",
      "File \u001b[1;32m~\\AppData\\Local\\Programs\\Python\\Python310\\lib\\site-packages\\aiohttp\\client.py:1197\u001b[0m, in \u001b[0;36m_BaseRequestContextManager.__aenter__\u001b[1;34m(self)\u001b[0m\n\u001b[0;32m   1196\u001b[0m \u001b[38;5;28;01masync\u001b[39;00m \u001b[38;5;28;01mdef\u001b[39;00m \u001b[38;5;21m__aenter__\u001b[39m(\u001b[38;5;28mself\u001b[39m) \u001b[38;5;241m-\u001b[39m\u001b[38;5;241m>\u001b[39m _RetType:\n\u001b[1;32m-> 1197\u001b[0m     \u001b[38;5;28mself\u001b[39m\u001b[38;5;241m.\u001b[39m_resp \u001b[38;5;241m=\u001b[39m \u001b[38;5;28;01mawait\u001b[39;00m \u001b[38;5;28mself\u001b[39m\u001b[38;5;241m.\u001b[39m_coro\n\u001b[0;32m   1198\u001b[0m     \u001b[38;5;28;01mreturn\u001b[39;00m \u001b[38;5;28mself\u001b[39m\u001b[38;5;241m.\u001b[39m_resp\n",
      "File \u001b[1;32m~\\AppData\\Local\\Programs\\Python\\Python310\\lib\\site-packages\\aiohttp\\client.py:676\u001b[0m, in \u001b[0;36mClientSession._request\u001b[1;34m(self, method, str_or_url, params, data, json, cookies, headers, skip_auto_headers, auth, allow_redirects, max_redirects, compress, chunked, expect100, raise_for_status, read_until_eof, proxy, proxy_auth, timeout, verify_ssl, fingerprint, ssl_context, ssl, server_hostname, proxy_headers, trace_request_ctx, read_bufsize, auto_decompress, max_line_size, max_field_size)\u001b[0m\n\u001b[0;32m    673\u001b[0m \u001b[38;5;28;01melif\u001b[39;00m \u001b[38;5;129;01mnot\u001b[39;00m scheme:\n\u001b[0;32m    674\u001b[0m     parsed_url \u001b[38;5;241m=\u001b[39m url\u001b[38;5;241m.\u001b[39mjoin(parsed_url)\n\u001b[1;32m--> 676\u001b[0m \u001b[38;5;28;01mif\u001b[39;00m url\u001b[38;5;241m.\u001b[39morigin() \u001b[38;5;241m!=\u001b[39m \u001b[43mparsed_url\u001b[49m\u001b[38;5;241;43m.\u001b[39;49m\u001b[43morigin\u001b[49m\u001b[43m(\u001b[49m\u001b[43m)\u001b[49m:\n\u001b[0;32m    677\u001b[0m     auth \u001b[38;5;241m=\u001b[39m \u001b[38;5;28;01mNone\u001b[39;00m\n\u001b[0;32m    678\u001b[0m     headers\u001b[38;5;241m.\u001b[39mpop(hdrs\u001b[38;5;241m.\u001b[39mAUTHORIZATION, \u001b[38;5;28;01mNone\u001b[39;00m)\n",
      "File \u001b[1;32m~\\AppData\\Local\\Programs\\Python\\Python310\\lib\\site-packages\\yarl\\_url.py:401\u001b[0m, in \u001b[0;36mURL.origin\u001b[1;34m(self)\u001b[0m\n\u001b[0;32m    399\u001b[0m \u001b[38;5;66;03m# TODO: add a keyword-only option for keeping user/pass maybe?\u001b[39;00m\n\u001b[0;32m    400\u001b[0m \u001b[38;5;28;01mif\u001b[39;00m \u001b[38;5;129;01mnot\u001b[39;00m \u001b[38;5;28mself\u001b[39m\u001b[38;5;241m.\u001b[39mis_absolute():\n\u001b[1;32m--> 401\u001b[0m     \u001b[38;5;28;01mraise\u001b[39;00m \u001b[38;5;167;01mValueError\u001b[39;00m(\u001b[38;5;124m\"\u001b[39m\u001b[38;5;124mURL should be absolute\u001b[39m\u001b[38;5;124m\"\u001b[39m)\n\u001b[0;32m    402\u001b[0m \u001b[38;5;28;01mif\u001b[39;00m \u001b[38;5;129;01mnot\u001b[39;00m \u001b[38;5;28mself\u001b[39m\u001b[38;5;241m.\u001b[39m_val\u001b[38;5;241m.\u001b[39mscheme:\n\u001b[0;32m    403\u001b[0m     \u001b[38;5;28;01mraise\u001b[39;00m \u001b[38;5;167;01mValueError\u001b[39;00m(\u001b[38;5;124m\"\u001b[39m\u001b[38;5;124mURL should have scheme\u001b[39m\u001b[38;5;124m\"\u001b[39m)\n",
      "\u001b[1;31mValueError\u001b[0m: URL should be absolute"
     ]
    }
   ],
   "source": [
    "async def send_gql_query():\n",
    "    async with aiohttp.ClientSession() as session:\n",
    "        async with session.post('hhttp://localhost:33001/graphiql/', json={'query': gql_query}) as response:\n",
    "            data = await response.json()\n",
    "    return data\n",
    "\n",
    "async def main():\n",
    "    response_data = await send_gql_query()\n",
    "    print(response_data)\n",
    "\n",
    "await main()\n",
    "# asyncio.run(main())"
   ]
  },
  {
   "cell_type": "code",
   "execution_count": null,
   "id": "1ef201b0",
   "metadata": {},
   "outputs": [],
   "source": []
  }
 ],
 "metadata": {
  "kernelspec": {
   "display_name": "Python 3 (ipykernel)",
   "language": "python",
   "name": "python3"
  },
  "language_info": {
   "codemirror_mode": {
    "name": "ipython",
    "version": 3
   },
   "file_extension": ".py",
   "mimetype": "text/x-python",
   "name": "python",
   "nbconvert_exporter": "python",
   "pygments_lexer": "ipython3",
   "version": "3.10.0"
  }
 },
 "nbformat": 4,
 "nbformat_minor": 5
}
