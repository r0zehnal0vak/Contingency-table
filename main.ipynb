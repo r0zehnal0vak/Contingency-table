{
 "cells": [
  {
   "cell_type": "markdown",
   "id": "25755323",
   "metadata": {},
   "source": [
    "### 3. Analýza známek u studijní skupiny (gql_ug + gql_granting).\n",
    "\n",
    "Jako parametr vezme definici kontingenční tabulky, GQL dotaz, dotaz zrealizuje, a data vloží do sešitu Excel spolu s kontingenční tabulkou. Vytvořte jako FastAPI službu.\n",
    "\n",
    "Společné podmínky\n",
    "- Vytvořit GQL dotaz na základě existující federace,\n",
    "- Definovat transformaci GQL response -> table rows (vstup pro kontingenční tabulku)\n",
    "- Vytvořit kontingenční tabulku\n",
    "- Vytvořit koláčový / sloupcový graf\n",
    "- Vytvořit Sunburst / Chord graf\n",
    "- Výsledek realizujte jako ipynb notebook (autentizace jménem a heslem, realizace aiohttp, transformace response, vytvoření tabulky, vytvoření grafu)."
   ]
  },
  {
   "cell_type": "code",
   "execution_count": 29,
   "id": "8feefbce",
   "metadata": {},
   "outputs": [],
   "source": [
    "import aiohttp\n",
    "import asyncio\n",
    "import json"
   ]
  },
  {
   "cell_type": "code",
   "execution_count": 30,
   "id": "db9d6588",
   "metadata": {},
   "outputs": [],
   "source": [
    "gql_query = \"\"\"\n",
    "query {\n",
    "\tacClassificationPage {\n",
    "  \tid\n",
    "  \tstudent {\n",
    "    \tid\n",
    "    \temail\n",
    "    \tfullname\n",
    "    \tname\n",
    "    \tsurname\n",
    "  \t}\n",
    "  \tsemester {\n",
    "    \tid\n",
    "    \torder\n",
    "    \tsubject {\n",
    "      \tid\n",
    "      \tname\n",
    "      \tprogram {\n",
    "        \tid\n",
    "        \tname\n",
    "      \t}\n",
    "    \t}\n",
    "  \t}\n",
    "  \tlevel {\n",
    "    \tid\n",
    "    \tname\n",
    "  \t}\n",
    "\t\tdate\n",
    "  \torder\n",
    "  }\n",
    "}\n",
    "\"\"\""
   ]
  },
  {
   "cell_type": "code",
   "execution_count": 31,
   "id": "8beacb3f",
   "metadata": {
    "scrolled": true
   },
   "outputs": [
    {
     "name": "stdout",
     "output_type": "stream",
     "text": [
      "{'data': {'acClassificationPage': [{'id': 'ce250bd0-b095-11ed-9bd8-0242ac110002', 'student': {'id': '2d9dc5ca-a4a2-11ed-b9df-0242ac120003', 'email': 'john.newbie@world.com', 'fullname': 'John Newbie', 'name': 'John', 'surname': 'Newbie'}, 'semester': {'id': 'ce250af4-b095-11ed-9bd8-0242ac110002', 'order': 1, 'subject': {'id': 'ce250a68-b095-11ed-9bd8-0242ac110002', 'name': 'ProgramovĂˇnĂ\\xad', 'program': {'id': '2766fc9a-b095-11ed-9bd8-0242ac110002', 'name': 'IT Technologie'}}}, 'level': {'id': '5faea396-b095-11ed-9bd8-0242ac110002', 'name': 'F'}, 'date': '2023-04-19T08:00:00', 'order': 1}, {'id': 'ce250bd1-b095-11ed-9bd8-0242ac110002', 'student': {'id': '2d9dc5ca-a4a2-11ed-b9df-0242ac120003', 'email': 'john.newbie@world.com', 'fullname': 'John Newbie', 'name': 'John', 'surname': 'Newbie'}, 'semester': {'id': 'ce250af4-b095-11ed-9bd8-0242ac110002', 'order': 1, 'subject': {'id': 'ce250a68-b095-11ed-9bd8-0242ac110002', 'name': 'ProgramovĂˇnĂ\\xad', 'program': {'id': '2766fc9a-b095-11ed-9bd8-0242ac110002', 'name': 'IT Technologie'}}}, 'level': {'id': '5faea21a-b095-11ed-9bd8-0242ac110002', 'name': 'C'}, 'date': '2023-04-19T08:00:00', 'order': 2}]}}\n"
     ]
    }
   ],
   "source": [
    "with open('data.json', 'r') as file:\n",
    "    data = json.load(file)\n",
    "    \n",
    "print(data)"
   ]
  },
  {
   "cell_type": "code",
   "execution_count": 32,
   "id": "7fc2e66c",
   "metadata": {},
   "outputs": [],
   "source": [
    "for level in data[\"data\"][\"acClassificationPage\"]: # FEATURE, DO NOT REMOVE :)\n",
    "    pass\n"
   ]
  },
  {
   "cell_type": "code",
   "execution_count": 33,
   "id": "84f54bfa",
   "metadata": {},
   "outputs": [
    {
     "name": "stdout",
     "output_type": "stream",
     "text": [
      "{'level_id': '5faea21a-b095-11ed-9bd8-0242ac110002', 'level_name': 'C', 'level_order': 2, 'level_date': '2023-04-19T08:00:00', 'student_id': '2d9dc5ca-a4a2-11ed-b9df-0242ac120003', 'student_email': 'john.newbie@world.com', 'subject_id': 'ce250a68-b095-11ed-9bd8-0242ac110002', 'subject_name': 'ProgramovĂˇnĂ\\xad', 'semestr_order': 1, 'program_id': '2766fc9a-b095-11ed-9bd8-0242ac110002', 'program_name': 'IT Technologie'}\n"
     ]
    }
   ],
   "source": [
    "def convertLevel(level):\n",
    "    row = {}\n",
    "    \n",
    "    row[\"level_id\"] = level[\"level\"][\"id\"]\n",
    "    row[\"level_name\"] = level[\"level\"][\"name\"]\n",
    "    row[\"level_order\"] = level[\"order\"]\n",
    "    row[\"level_date\"] = level[\"date\"]\n",
    "    \n",
    "    row[\"student_id\"] = level[\"student\"][\"id\"]  \n",
    "    row[\"student_email\"] = level[\"student\"][\"email\"]  \n",
    "    \n",
    "    row[\"subject_id\"] = level[\"semester\"][\"subject\"][\"id\"]  \n",
    "    row[\"subject_name\"] = level[\"semester\"][\"subject\"][\"name\"]   \n",
    "    row[\"semestr_order\"] = level['semester']['order']\n",
    "    \n",
    "    row[\"program_id\"] = level[\"semester\"][\"subject\"][\"program\"][\"id\"]  \n",
    "    row[\"program_name\"] = level[\"semester\"][\"subject\"][\"program\"][\"name\"]\n",
    "    return row\n",
    "\n",
    "print(convertLevel(level))\n",
    "\n",
    "with open(\"grouped_data.json\", \"w\") as json_file:\n",
    "    json.dump(convertLevel(level), json_file)"
   ]
  },
  {
   "cell_type": "code",
   "execution_count": null,
   "id": "820e14a7",
   "metadata": {},
   "outputs": [],
   "source": []
  }
 ],
 "metadata": {
  "kernelspec": {
   "display_name": "Python 3 (ipykernel)",
   "language": "python",
   "name": "python3"
  },
  "language_info": {
   "codemirror_mode": {
    "name": "ipython",
    "version": 3
   },
   "file_extension": ".py",
   "mimetype": "text/x-python",
   "name": "python",
   "nbconvert_exporter": "python",
   "pygments_lexer": "ipython3",
   "version": "3.10.0"
  }
 },
 "nbformat": 4,
 "nbformat_minor": 5
}
