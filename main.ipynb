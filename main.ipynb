{
 "cells": [
  {
   "cell_type": "markdown",
   "id": "25755323",
   "metadata": {},
   "source": [
    "### 3. Analýza známek u studijní skupiny (gql_ug + gql_granting).\n",
    "\n",
    "Jako parametr vezme definici kontingenční tabulky, GQL dotaz, dotaz zrealizuje, a data vloží do sešitu Excel spolu s kontingenční tabulkou. Vytvořte jako FastAPI službu.\n",
    "\n",
    "Společné podmínky\n",
    "- Vytvořit GQL dotaz na základě existující federace,\n",
    "- Definovat transformaci GQL response -> table rows (vstup pro kontingenční tabulku)\n",
    "- Vytvořit kontingenční tabulku\n",
    "- Vytvořit koláčový / sloupcový graf\n",
    "- Vytvořit Sunburst / Chord graf\n",
    "- Výsledek realizujte jako ipynb notebook (autentizace jménem a heslem, realizace aiohttp, transformace response, vytvoření tabulky, vytvoření grafu)."
   ]
  },
  {
   "cell_type": "code",
   "execution_count": 1,
   "id": "8feefbce",
   "metadata": {},
   "outputs": [],
   "source": [
    "import aiohttp\n",
    "import asyncio\n",
    "import json"
   ]
  },
  {
   "cell_type": "code",
   "execution_count": 2,
   "id": "db9d6588",
   "metadata": {},
   "outputs": [],
   "source": [
    "gql_query = \"\"\"\n",
    "query {\n",
    "\tacClassificationPage {\n",
    "  \tid\n",
    "  \tstudent {\n",
    "    \tid\n",
    "    \temail\n",
    "    \tfullname\n",
    "    \tname\n",
    "    \tsurname\n",
    "  \t}\n",
    "  \tsemester {\n",
    "    \tid\n",
    "    \torder\n",
    "    \tsubject {\n",
    "      \tid\n",
    "      \tname\n",
    "      \tprogram {\n",
    "        \tid\n",
    "        \tname\n",
    "      \t}\n",
    "    \t}\n",
    "  \t}\n",
    "  \tlevel {\n",
    "    \tid\n",
    "    \tname\n",
    "  \t}\n",
    "\t\tdate\n",
    "  \torder\n",
    "  }\n",
    "}\n",
    "\"\"\""
   ]
  },
  {
   "cell_type": "code",
   "execution_count": 3,
   "id": "8beacb3f",
   "metadata": {
    "scrolled": true
   },
   "outputs": [
    {
     "name": "stdout",
     "output_type": "stream",
     "text": [
      "{'data': {'acClassificationPage': [{'id': 'ce250bd0-b095-11ed-9bd8-0242ac110002', 'student': {'id': '2d9dc5ca-a4a2-11ed-b9df-0242ac120003', 'email': 'john.newbie@world.com', 'fullname': 'John Newbie', 'name': 'John', 'surname': 'Newbie'}, 'semester': {'id': 'ce250af4-b095-11ed-9bd8-0242ac110002', 'order': 1, 'subject': {'id': 'ce250a68-b095-11ed-9bd8-0242ac110002', 'name': 'Programovani', 'program': {'id': '2766fc9a-b095-11ed-9bd8-0242ac110002', 'name': 'IT Technologie'}}}, 'level': {'id': '5faea396-b095-11ed-9bd8-0242ac110002', 'name': 'F'}, 'date': '2023-04-19T08:00:00', 'order': 1}, {'id': 'ce250bd1-b095-11ed-9bd8-0242ac110002', 'student': {'id': '2d9dc5ca-a4a2-11ed-b9df-0242ac120003', 'email': 'john.newbie@world.com', 'fullname': 'John Newbie', 'name': 'John', 'surname': 'Newbie'}, 'semester': {'id': 'ce250af4-b095-11ed-9bd8-0242ac110002', 'order': 1, 'subject': {'id': 'ce250a68-b095-11ed-9bd8-0242ac110002', 'name': 'Programovani', 'program': {'id': '2766fc9a-b095-11ed-9bd8-0242ac110002', 'name': 'IT Technologie'}}}, 'level': {'id': '5faea21a-b095-11ed-9bd8-0242ac110002', 'name': 'C'}, 'date': '2023-04-19T08:00:00', 'order': 2}]}}\n"
     ]
    }
   ],
   "source": [
    "with open('data.json', 'r') as file:\n",
    "    data = json.load(file)\n",
    "    \n",
    "print(data)"
   ]
  },
  {
   "cell_type": "code",
   "execution_count": 4,
   "id": "84f54bfa",
   "metadata": {},
   "outputs": [
    {
     "name": "stdout",
     "output_type": "stream",
     "text": [
      "[{'level_id': '5faea21a-b095-11ed-9bd8-0242ac110002', 'level_name': 'C', 'level_order': 2, 'level_date': '2023-04-19T08:00:00', 'student_id': '2d9dc5ca-a4a2-11ed-b9df-0242ac120003', 'student_email': 'john.newbie@world.com', 'subject_id': 'ce250a68-b095-11ed-9bd8-0242ac110002', 'subject_name': 'Programovani', 'semestr_order': 1, 'program_id': '2766fc9a-b095-11ed-9bd8-0242ac110002', 'program_name': 'IT Technologie'}]\n"
     ]
    }
   ],
   "source": [
    "def convertLevel(level):\n",
    "    row = {}\n",
    "    \n",
    "    row[\"level_id\"] = level[\"level\"][\"id\"]\n",
    "    row[\"level_name\"] = level[\"level\"][\"name\"]\n",
    "    row[\"level_order\"] = level[\"order\"]\n",
    "    row[\"level_date\"] = level[\"date\"]\n",
    "    \n",
    "    row[\"student_id\"] = level[\"student\"][\"id\"]  \n",
    "    row[\"student_email\"] = level[\"student\"][\"email\"]  \n",
    "    \n",
    "    row[\"subject_id\"] = level[\"semester\"][\"subject\"][\"id\"]  \n",
    "    row[\"subject_name\"] = level[\"semester\"][\"subject\"][\"name\"]   \n",
    "    row[\"semestr_order\"] = level['semester']['order']\n",
    "    \n",
    "    row[\"program_id\"] = level[\"semester\"][\"subject\"][\"program\"][\"id\"]  \n",
    "    row[\"program_name\"] = level[\"semester\"][\"subject\"][\"program\"][\"name\"]\n",
    "    return row\n",
    "\n",
    "converted_data = [convertLevel(level) for level in data[\"data\"][\"acClassificationPage\"]]\n",
    "\n",
    "sorted_data = sorted(converted_data, key=lambda x: x['level_order'], reverse=True)\n",
    "filtered_data = sorted_data[:1]\n",
    "\n",
    "print(filtered_data)"
   ]
  },
  {
   "cell_type": "code",
   "execution_count": 5,
   "id": "820e14a7",
   "metadata": {},
   "outputs": [
    {
     "name": "stdout",
     "output_type": "stream",
     "text": [
      "[{'level_id': '5faea21a-b095-11ed-9bd8-0242ac110002', 'level_name': 'C', 'level_order': 2, 'level_date': '2023-04-19T08:00:00', 'student_id': '2d9dc5ca-a4a2-11ed-b9df-0242ac120003', 'student_email': 'john.newbie@world.com', 'subject_id': 'ce250a68-b095-11ed-9bd8-0242ac110002', 'subject_name': 'Programovani', 'semestr_order': 1, 'program_id': '2766fc9a-b095-11ed-9bd8-0242ac110002', 'program_name': 'IT Technologie'}, {'level_id': '6d5a1c9e-3db6-11ec-8d3d-0242ac130003', 'level_name': 'A', 'level_order': 3, 'level_date': '2023-05-20T09:30:00', 'student_id': '4f8e72aa-3db6-11ec-8d3d-0242ac130003', 'student_email': 'emma.smith@example.com', 'subject_id': 'ce250a69-b095-11ed-9bd8-0242ac110002', 'subject_name': 'Pocitacove site', 'semester_order': 1, 'program_id': '2766fc9a-b095-11ed-9bd8-0242ac110002', 'program_name': 'IT Technologie'}, {'level_id': '7e6b3f8a-3db6-11ec-8d3d-0242ac130003', 'level_name': 'B', 'level_order': 4, 'level_date': '2023-06-10T14:00:00', 'student_id': '5fbc249e-3db6-11ec-8d3d-0242ac130003', 'student_email': 'alexander.doe@example.com', 'subject_id': 'ce250a6a-b095-11ed-9bd8-0242ac110002', 'subject_name': 'Pocitacove site', 'semestr_order': 1, 'program_id': '2766fc9a-b095-11ed-9bd8-0242ac110002', 'program_name': 'IT Technologie'}, {'level_id': '8a714170-3db6-11ec-8d3d-0242ac130003', 'level_name': 'C', 'level_order': 5, 'level_date': '2023-07-05T10:45:00', 'student_id': '6e831042-3db6-11ec-8d3d-0242ac130003', 'student_email': 'lisa.jones@example.com', 'subject_id': 'ce250a6b-b095-11ed-9bd8-0242ac110002', 'subject_name': 'Matematika', 'semestr_order': 1, 'program_id': '2766fc9a-b095-11ed-9bd8-0242ac110002', 'program_name': 'IT Technologie'}, {'level_id': '8c7c116e-3db6-11ec-8d3d-0242ac130003', 'level_name': 'D', 'level_order': 6, 'level_date': '2023-08-15T13:15:00', 'student_id': '7fb213a0-3db6-11ec-8d3d-0242ac130003', 'student_email': 'michael.brown@example.com', 'subject_id': 'ce250a68-b095-11ed-9bd8-0242ac110002', 'subject_name': 'Programovani', 'semestr_order': 1, 'program_id': '2766fc9a-b095-11ed-9bd8-0242ac110002', 'program_name': 'IT Technologie'}, {'level_id': '8e7f162e-3db6-11ec-8d3d-0242ac130003', 'level_name': 'E', 'level_order': 7, 'level_date': '2023-09-20T11:30:00', 'student_id': '8ea5e3f2-3db6-11ec-8d3d-0242ac130003', 'student_email': 'sophia.jackson@example.com', 'subject_id': 'ce250a6b-b095-11ed-9bd8-0242ac110002', 'subject_name': 'Matematika', 'semestr_order': 1, 'program_id': '2766fc9a-b095-11ed-9bd8-0242ac110002', 'program_name': 'IT Technologie'}, {'level_id': '8e7f162e-3db6-11ec-8d3d-0242ac130003', 'level_name': 'E', 'level_order': 7, 'level_date': '2023-09-20T11:30:00', 'student_id': '8ea5e3f2-3db6-11ec-8d3d-0242ac130003', 'student_email': 'sophia.jackson@example.com', 'subject_id': 'ce250a6b-b095-11ed-9bd8-0242ac110002', 'subject_name': 'Matematika', 'semestr_order': 1, 'program_id': '2766fc9a-b095-11ed-9bd8-0242ac110002', 'program_name': 'IT Technologie'}, {'level_id': '9f7d1a3a-3db6-11ec-8d3d-0242ac130003', 'level_name': 'C', 'level_order': 2, 'level_date': '2023-12-05T09:30:00', 'student_id': 'af2b9ff6-3db6-11ec-8d3d-0242ac130003', 'student_email': 'olivia.davis@example.com', 'subject_id': 'ce250a6a-b095-11ed-9bd8-0242ac110002', 'subject_name': 'Matematika', 'semestr_order': 1, 'program_id': '2766fc9a-b095-11ed-9bd8-0242ac110002', 'program_name': 'IT Technologie'}, {'level_id': '9f7d1a3a-3db6-11ec-8d3d-0242ac130003', 'level_name': 'B', 'level_order': 1, 'level_date': '2023-12-20T10:00:00', 'student_id': 'bf2b9ff6-3db6-11ec-8d3d-0242ac130003', 'student_email': 'emma.wilson@example.com', 'subject_id': 'ce250a6a-b095-11ed-9bd8-0242ac110002', 'subject_name': 'Matematika', 'semestr_order': 1, 'program_id': '2766fc9a-b095-11ed-9bd8-0242ac110002', 'program_name': 'IT Technologie'}, {'level_id': 'af7d1a3a-3db6-11ec-8d3d-0242ac130003', 'level_name': 'C', 'level_order': 2, 'level_date': '2023-12-25T14:30:00', 'student_id': 'cf2b9ff6-3db6-11ec-8d3d-0242ac130003', 'student_email': 'jack.roberts@example.com', 'subject_id': 'ce250a6a-b095-11ed-9bd8-0242ac110002', 'subject_name': 'Matematika', 'semestr_order': 1, 'program_id': '2766fc9a-b095-11ed-9bd8-0242ac110002', 'program_name': 'IT Technologie'}, {'level_id': 'cf7d1a3a-3db6-11ec-8d3d-0242ac130003', 'level_name': 'B', 'level_order': 2, 'level_date': '2024-02-05T10:30:00', 'student_id': 'ef2b9ff6-3db6-11ec-8d3d-0242ac130003', 'student_email': 'sophie.jenkins@example.com', 'subject_id': 'ce250a6c-b095-11ed-9bd8-0242ac110002', 'subject_name': 'Pocitacove site', 'semestr_order': 1, 'program_id': '2766fc9a-b095-11ed-9bd8-0242ac110002', 'program_name': 'IT Technologie'}, {'level_id': 'df7d1a3a-3db6-11ec-8d3d-0242ac130003', 'level_name': 'C', 'level_order': 1, 'level_date': '2024-03-20T13:00:00', 'student_id': 'ff2b9ff6-3db6-11ec-8d3d-0242ac130003', 'student_email': 'harry.thompson@example.com', 'subject_id': 'ce250a6b-b095-11ed-9bd8-0242ac110002', 'subject_name': 'Programovani', 'semestr_order': 1, 'program_id': '2766fc9a-b095-11ed-9bd8-0242ac110002', 'program_name': 'IT Technologie'}, {'level_id': 'ef7d1a3a-3db6-11ec-8d3d-0242ac130003', 'level_name': 'A', 'level_order': 2, 'level_date': '2024-04-10T09:30:00', 'student_id': '1f2b9ff6-3db6-11ec-8d3d-0242ac130003', 'student_email': 'emily.evans@example.com', 'subject_id': 'ce250a68-b095-11ed-9bd8-0242ac110002', 'subject_name': 'Matematika', 'semestr_order': 1, 'program_id': '2766fc9a-b095-11ed-9bd8-0242ac110002', 'program_name': 'IT Technologie'}, {'level_id': 'ff7d1a3a-3db6-11ec-8d3d-0242ac130003', 'level_name': 'B', 'level_order': 2, 'level_date': '2024-05-05T14:00:00', 'student_id': '2f2b9ff6-3db6-11ec-8d3d-0242ac130003', 'student_email': 'benjamin.harris@example.com', 'subject_id': 'ce250a6c-b095-11ed-9bd8-0242ac110002', 'subject_name': 'Pocitacove site', 'semestr_order': 1, 'program_id': '2766fc9a-b095-11ed-9bd8-0242ac110002', 'program_name': 'IT Technologie'}, {'level_id': '1f7d1a3a-3db6-11ec-8d3d-0242ac130003', 'level_name': 'C', 'level_order': 3, 'level_date': '2024-06-15T11:30:00', 'student_id': '3f2b9ff6-3db6-11ec-8d3d-0242ac130003', 'student_email': 'charlotte.moore@example.com', 'subject_id': 'ce250a68-b095-11ed-9bd8-0242ac110002', 'subject_name': 'Matematika', 'semestr_order': 1, 'program_id': '2766fc9a-b095-11ed-9bd8-0242ac110002', 'program_name': 'IT Technologie'}, {'level_id': '2f7d1a3a-3db6-11ec-8d3d-0242ac130003', 'level_name': 'B', 'level_order': 1, 'level_date': '2024-07-20T13:00:00', 'student_id': '4f2b9ff6-3db6-11ec-8d3d-0242ac130003', 'student_email': 'daniel.johnson@example.com', 'subject_id': 'ce250a6b-b095-11ed-9bd8-0242ac110002', 'subject_name': 'Programovani', 'semestr_order': 1, 'program_id': '2766fc9a-b095-11ed-9bd8-0242ac110002', 'program_name': 'IT Technologie'}, {'level_id': '3f7d1a3a-3db6-11ec-8d3d-0242ac130003', 'level_name': 'A', 'level_order': 2, 'level_date': '2024-08-10T09:00:00', 'student_id': '5f2b9ff6-3db6-11ec-8d3d-0242ac130003', 'student_email': 'olivia.smith@example.com', 'subject_id': 'ce250a6c-b095-11ed-9bd8-0242ac110002', 'subject_name': 'Pocitacove site', 'semestr_order': 1, 'program_id': '2766fc9a-b095-11ed-9bd8-0242ac110002', 'program_name': 'IT Technologie'}, {'level_id': '4f7d1a3a-3db6-11ec-8d3d-0242ac130003', 'level_name': 'C', 'level_order': 1, 'level_date': '2024-09-05T10:30:00', 'student_id': '6f2b9ff6-3db6-11ec-8d3d-0242ac130003', 'student_email': 'william.jones@example.com', 'subject_id': 'ce250a68-b095-11ed-9bd8-0242ac110002', 'subject_name': 'Matematika', 'semestr_order': 1, 'program_id': '2766fc9a-b095-11ed-9bd8-0242ac110002', 'program_name': 'IT Technologie'}, {'level_id': '5f7d1a3a-3db6-11ec-8d3d-0242ac130003', 'level_name': 'B', 'level_order': 2, 'level_date': '2024-10-15T14:00:00', 'student_id': '7f2b9ff6-3db6-11ec-8d3d-0242ac130003', 'student_email': 'emily.taylor@example.com', 'subject_id': 'ce250a6c-b095-11ed-9bd8-0242ac110002', 'subject_name': 'Pocitacove site', 'semestr_order': 1, 'program_id': '2766fc9a-b095-11ed-9bd8-0242ac110002', 'program_name': 'IT Technologie'}, {'level_id': '6f7d1a3a-3db6-11ec-8d3d-0242ac130003', 'level_name': 'A', 'level_order': 3, 'level_date': '2024-11-20T13:00:00', 'student_id': '8f2b9ff6-3db6-11ec-8d3d-0242ac130003', 'student_email': 'jacob.miller@example.com', 'subject_id': 'ce250a6b-b095-11ed-9bd8-0242ac110002', 'subject_name': 'Programovani', 'semestr_order': 1, 'program_id': '2766fc9a-b095-11ed-9bd8-0242ac110002', 'program_name': 'IT Technologie'}, {'level_id': '7f7d1a3a-3db6-11ec-8d3d-0242ac130003', 'level_name': 'B', 'level_order': 2, 'level_date': '2024-12-05T10:30:00', 'student_id': '9f2b9ff6-3db6-11ec-8d3d-0242ac130003', 'student_email': 'mia.white@example.com', 'subject_id': 'ce250a68-b095-11ed-9bd8-0242ac110002', 'subject_name': 'Matematika', 'semestr_order': 1, 'program_id': '2766fc9a-b095-11ed-9bd8-0242ac110002', 'program_name': 'IT Technologie'}, {'level_id': '8f7d1a3a-3db6-11ec-8d3d-0242ac130003', 'level_name': 'C', 'level_order': 1, 'level_date': '2025-01-10T09:00:00', 'student_id': 'af2b9ff6-3db6-11ec-8d3d-0242ac130003', 'student_email': 'noah.martin@example.com', 'subject_id': 'ce250a6c-b095-11ed-9bd8-0242ac110002', 'subject_name': 'Pocitacove site', 'semestr_order': 1, 'program_id': '2766fc9a-b095-11ed-9bd8-0242ac110002', 'program_name': 'IT Technologie'}, {'level_id': '9f7d1a3a-3db6-11ec-8d3d-0242ac130003', 'level_name': 'A', 'level_order': 3, 'level_date': '2025-02-15T14:00:00', 'student_id': 'bf2b9ff6-3db6-11ec-8d3d-0242ac130003', 'student_email': 'mia.robinson@example.com', 'subject_id': 'ce250a6b-b095-11ed-9bd8-0242ac110002', 'subject_name': 'Programovani', 'semestr_order': 1, 'program_id': '2766fc9a-b095-11ed-9bd8-0242ac110002', 'program_name': 'IT Technologie'}, {'level_id': 'af7d1a3a-3db6-11ec-8d3d-0242ac130003', 'level_name': 'B', 'level_order': 2, 'level_date': '2025-03-20T13:30:00', 'student_id': 'cf2b9ff6-3db6-11ec-8d3d-0242ac130003', 'student_email': 'ethan.hall@example.com', 'subject_id': 'ce250a68-b095-11ed-9bd8-0242ac110002', 'subject_name': 'Matematika', 'semestr_order': 1, 'program_id': '2766fc9a-b095-11ed-9bd8-0242ac110002', 'program_name': 'IT Technologie'}, {'level_id': 'bf7d1a3a-3db6-11ec-8d3d-0242ac130003', 'level_name': 'C', 'level_order': 1, 'level_date': '2025-04-25T09:00:00', 'student_id': 'df2b9ff6-3db6-11ec-8d3d-0242ac130003', 'student_email': 'oliver.garcia@example.com', 'subject_id': 'ce250a6c-b095-11ed-9bd8-0242ac110002', 'subject_name': 'Pocitacove site', 'semestr_order': 1, 'program_id': '2766fc9a-b095-11ed-9bd8-0242ac110002', 'program_name': 'IT Technologie'}, {'level_id': 'cf7d1a3a-3db6-11ec-8d3d-0242ac130003', 'level_name': 'A', 'level_order': 3, 'level_date': '2025-05-15T14:30:00', 'student_id': 'ef2b9ff6-3db6-11ec-8d3d-0242ac130003', 'student_email': 'ava.martinez@example.com', 'subject_id': 'ce250a6b-b095-11ed-9bd8-0242ac110002', 'subject_name': 'Programovani', 'semestr_order': 1, 'program_id': '2766fc9a-b095-11ed-9bd8-0242ac110002', 'program_name': 'IT Technologie'}, {'level_id': 'df7d1a3a-3db6-11ec-8d3d-0242ac130003', 'level_name': 'B', 'level_order': 2, 'level_date': '2025-06-10T10:00:00', 'student_id': 'ff2b9ff6-3db6-11ec-8d3d-0242ac130003', 'student_email': 'olivia.johnson@example.com', 'subject_id': 'ce250a68-b095-11ed-9bd8-0242ac110002', 'subject_name': 'Matematika', 'semestr_order': 1, 'program_id': '2766fc9a-b095-11ed-9bd8-0242ac110002', 'program_name': 'IT Technologie'}, {'level_id': 'ef7d1a3a-3db6-11ec-8d3d-0242ac130003', 'level_name': 'C', 'level_order': 1, 'level_date': '2025-07-05T09:30:00', 'student_id': '1f2b9ff6-3db6-11ec-8d3d-0242ac130003', 'student_email': 'william.miller@example.com', 'subject_id': 'ce250a6c-b095-11ed-9bd8-0242ac110002', 'subject_name': 'Pocitacove site', 'semestr_order': 1, 'program_id': '2766fc9a-b095-11ed-9bd8-0242ac110002', 'program_name': 'IT Technologie'}, {'level_id': 'ff7d1a3a-3db6-11ec-8d3d-0242ac130003', 'level_name': 'A', 'level_order': 3, 'level_date': '2025-08-20T13:00:00', 'student_id': '2f2b9ff6-3db6-11ec-8d3d-0242ac130003', 'student_email': 'emma.davis@example.com', 'subject_id': 'ce250a6b-b095-11ed-9bd8-0242ac110002', 'subject_name': 'Programovani', 'semestr_order': 1, 'program_id': '2766fc9a-b095-11ed-9bd8-0242ac110002', 'program_name': 'IT Technologie'}, {'level_id': '0f7d1a3a-3db6-11ec-8d3d-0242ac130003', 'level_name': 'B', 'level_order': 2, 'level_date': '2025-09-10T10:30:00', 'student_id': '3f2b9ff6-3db6-11ec-8d3d-0242ac130003', 'student_email': 'noah.thomas@example.com', 'subject_id': 'ce250a68-b095-11ed-9bd8-0242ac110002', 'subject_name': 'Matematika', 'semestr_order': 1, 'program_id': '2766fc9a-b095-11ed-9bd8-0242ac110002', 'program_name': 'IT Technologie'}, {'level_id': '1f7d1a3a-3db6-11ec-8d3d-0242ac130003', 'level_name': 'C', 'level_order': 1, 'level_date': '2025-10-15T09:00:00', 'student_id': '4f2b9ff6-3db6-11ec-8d3d-0242ac130003', 'student_email': 'oliver.rodriguez@example.com', 'subject_id': 'ce250a6c-b095-11ed-9bd8-0242ac110002', 'subject_name': 'Pocitacove site', 'semestr_order': 1, 'program_id': '2766fc9a-b095-11ed-9bd8-0242ac110002', 'program_name': 'IT Technologie'}]\n"
     ]
    }
   ],
   "source": [
    "with open('fake_data.json', 'r') as file:\n",
    "    fake_data = json.load(file)\n",
    "    \n",
    "grouped_data = filtered_data + fake_data\n",
    "\n",
    "print(grouped_data)\n",
    "\n",
    "with open(\"grouped_data.json\", \"w\") as json_file:\n",
    "    json.dump(grouped_data, json_file)"
   ]
  },
  {
   "cell_type": "code",
   "execution_count": null,
   "id": "ff9a3a02",
   "metadata": {},
   "outputs": [],
   "source": []
  }
 ],
 "metadata": {
  "kernelspec": {
   "display_name": "Python 3 (ipykernel)",
   "language": "python",
   "name": "python3"
  },
  "language_info": {
   "codemirror_mode": {
    "name": "ipython",
    "version": 3
   },
   "file_extension": ".py",
   "mimetype": "text/x-python",
   "name": "python",
   "nbconvert_exporter": "python",
   "pygments_lexer": "ipython3",
   "version": "3.10.0"
  }
 },
 "nbformat": 4,
 "nbformat_minor": 5
}
