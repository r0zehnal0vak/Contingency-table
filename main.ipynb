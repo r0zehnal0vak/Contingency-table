{
 "cells": [
  {
   "cell_type": "markdown",
   "id": "25755323",
   "metadata": {},
   "source": [
    "### 3. Analýza známek u studijní skupiny (gql_ug + gql_granting).\n",
    "\n",
    "Jako parametr vezme definici kontingenční tabulky, GQL dotaz, dotaz zrealizuje, a data vloží do sešitu Excel spolu s kontingenční tabulkou. Vytvořte jako FastAPI službu.\n",
    "\n",
    "Společné podmínky\n",
    "- Vytvořit GQL dotaz na základě existující federace,\n",
    "- Definovat transformaci GQL response -> table rows (vstup pro kontingenční tabulku)\n",
    "- Vytvořit kontingenční tabulku\n",
    "- Vytvořit koláčový / sloupcový graf\n",
    "- Vytvořit Sunburst / Chord graf\n",
    "- Výsledek realizujte jako ipynb notebook (autentizace jménem a heslem, realizace aiohttp, transformace response, vytvoření tabulky, vytvoření grafu)."
   ]
  },
  {
   "cell_type": "code",
   "execution_count": 1,
   "id": "39a47941",
   "metadata": {},
   "outputs": [
    {
     "name": "stdout",
     "output_type": "stream",
     "text": [
      "hello\n"
     ]
    }
   ],
   "source": [
    "print(\"hello\")"
   ]
  },
  {
   "cell_type": "code",
   "execution_count": 7,
   "id": "8feefbce",
   "metadata": {},
   "outputs": [],
   "source": [
    "import aiohttp\n",
    "import asyncio\n",
    "import json"
   ]
  },
  {
   "cell_type": "code",
   "execution_count": 8,
   "id": "db9d6588",
   "metadata": {},
   "outputs": [],
   "source": [
    "gql_query = \"\"\"\n",
    "query {\n",
    "\tacClassificationPage {\n",
    "  \tid\n",
    "  \tstudent {\n",
    "    \tid\n",
    "    \temail\n",
    "    \tfullname\n",
    "    \tname\n",
    "    \tsurname\n",
    "  \t}\n",
    "  \tsemester {\n",
    "    \tid\n",
    "    \torder\n",
    "    \tsubject {\n",
    "      \tid\n",
    "      \tname\n",
    "      \tprogram {\n",
    "        \tid\n",
    "        \tname\n",
    "      \t}\n",
    "    \t}\n",
    "  \t}\n",
    "  \tlevel {\n",
    "    \tid\n",
    "    \tname\n",
    "  \t}\n",
    "\t\tdate\n",
    "  \torder\n",
    "  }\n",
    "}\n",
    "\"\"\""
   ]
  },
  {
   "cell_type": "code",
   "execution_count": 5,
   "id": "8beacb3f",
   "metadata": {},
   "outputs": [
    {
     "ename": "ContentTypeError",
     "evalue": "0, message='Attempt to decode JSON with unexpected mimetype: text/html; charset=utf-8', url=URL('http://localhost:33001/oauth/login2?redirect_uri=/graphiql/')",
     "output_type": "error",
     "traceback": [
      "\u001b[1;31m---------------------------------------------------------------------------\u001b[0m",
      "\u001b[1;31mContentTypeError\u001b[0m                          Traceback (most recent call last)",
      "Input \u001b[1;32mIn [5]\u001b[0m, in \u001b[0;36m<cell line: 11>\u001b[1;34m()\u001b[0m\n\u001b[0;32m      8\u001b[0m     response_data \u001b[38;5;241m=\u001b[39m \u001b[38;5;28;01mawait\u001b[39;00m send_gql_query()\n\u001b[0;32m      9\u001b[0m     \u001b[38;5;28mprint\u001b[39m(response_data)\n\u001b[1;32m---> 11\u001b[0m \u001b[38;5;28;01mawait\u001b[39;00m main()\n",
      "Input \u001b[1;32mIn [5]\u001b[0m, in \u001b[0;36mmain\u001b[1;34m()\u001b[0m\n\u001b[0;32m      7\u001b[0m \u001b[38;5;28;01masync\u001b[39;00m \u001b[38;5;28;01mdef\u001b[39;00m \u001b[38;5;21mmain\u001b[39m():\n\u001b[1;32m----> 8\u001b[0m     response_data \u001b[38;5;241m=\u001b[39m \u001b[38;5;28;01mawait\u001b[39;00m send_gql_query()\n\u001b[0;32m      9\u001b[0m     \u001b[38;5;28mprint\u001b[39m(response_data)\n",
      "Input \u001b[1;32mIn [5]\u001b[0m, in \u001b[0;36msend_gql_query\u001b[1;34m()\u001b[0m\n\u001b[0;32m      2\u001b[0m \u001b[38;5;28;01masync\u001b[39;00m \u001b[38;5;28;01mwith\u001b[39;00m aiohttp\u001b[38;5;241m.\u001b[39mClientSession() \u001b[38;5;28;01mas\u001b[39;00m session:\n\u001b[0;32m      3\u001b[0m     \u001b[38;5;28;01masync\u001b[39;00m \u001b[38;5;28;01mwith\u001b[39;00m session\u001b[38;5;241m.\u001b[39mpost(\u001b[38;5;124m'\u001b[39m\u001b[38;5;124mhttp://localhost:33001/graphiql/\u001b[39m\u001b[38;5;124m'\u001b[39m, json\u001b[38;5;241m=\u001b[39m{\u001b[38;5;124m'\u001b[39m\u001b[38;5;124mquery\u001b[39m\u001b[38;5;124m'\u001b[39m: gql_query}) \u001b[38;5;28;01mas\u001b[39;00m response:\n\u001b[1;32m----> 4\u001b[0m         data \u001b[38;5;241m=\u001b[39m \u001b[38;5;28;01mawait\u001b[39;00m response\u001b[38;5;241m.\u001b[39mjson()\n\u001b[0;32m      5\u001b[0m \u001b[38;5;28;01mreturn\u001b[39;00m data\n",
      "File \u001b[1;32m~\\AppData\\Local\\Programs\\Python\\Python310\\lib\\site-packages\\aiohttp\\client_reqrep.py:1176\u001b[0m, in \u001b[0;36mClientResponse.json\u001b[1;34m(self, encoding, loads, content_type)\u001b[0m\n\u001b[0;32m   1174\u001b[0m     ctype \u001b[38;5;241m=\u001b[39m \u001b[38;5;28mself\u001b[39m\u001b[38;5;241m.\u001b[39mheaders\u001b[38;5;241m.\u001b[39mget(hdrs\u001b[38;5;241m.\u001b[39mCONTENT_TYPE, \u001b[38;5;124m\"\u001b[39m\u001b[38;5;124m\"\u001b[39m)\u001b[38;5;241m.\u001b[39mlower()\n\u001b[0;32m   1175\u001b[0m     \u001b[38;5;28;01mif\u001b[39;00m \u001b[38;5;129;01mnot\u001b[39;00m _is_expected_content_type(ctype, content_type):\n\u001b[1;32m-> 1176\u001b[0m         \u001b[38;5;28;01mraise\u001b[39;00m ContentTypeError(\n\u001b[0;32m   1177\u001b[0m             \u001b[38;5;28mself\u001b[39m\u001b[38;5;241m.\u001b[39mrequest_info,\n\u001b[0;32m   1178\u001b[0m             \u001b[38;5;28mself\u001b[39m\u001b[38;5;241m.\u001b[39mhistory,\n\u001b[0;32m   1179\u001b[0m             message\u001b[38;5;241m=\u001b[39m(\n\u001b[0;32m   1180\u001b[0m                 \u001b[38;5;124m\"\u001b[39m\u001b[38;5;124mAttempt to decode JSON with \u001b[39m\u001b[38;5;124m\"\u001b[39m \u001b[38;5;124m\"\u001b[39m\u001b[38;5;124munexpected mimetype: \u001b[39m\u001b[38;5;132;01m%s\u001b[39;00m\u001b[38;5;124m\"\u001b[39m \u001b[38;5;241m%\u001b[39m ctype\n\u001b[0;32m   1181\u001b[0m             ),\n\u001b[0;32m   1182\u001b[0m             headers\u001b[38;5;241m=\u001b[39m\u001b[38;5;28mself\u001b[39m\u001b[38;5;241m.\u001b[39mheaders,\n\u001b[0;32m   1183\u001b[0m         )\n\u001b[0;32m   1185\u001b[0m stripped \u001b[38;5;241m=\u001b[39m \u001b[38;5;28mself\u001b[39m\u001b[38;5;241m.\u001b[39m_body\u001b[38;5;241m.\u001b[39mstrip()  \u001b[38;5;66;03m# type: ignore[union-attr]\u001b[39;00m\n\u001b[0;32m   1186\u001b[0m \u001b[38;5;28;01mif\u001b[39;00m \u001b[38;5;129;01mnot\u001b[39;00m stripped:\n",
      "\u001b[1;31mContentTypeError\u001b[0m: 0, message='Attempt to decode JSON with unexpected mimetype: text/html; charset=utf-8', url=URL('http://localhost:33001/oauth/login2?redirect_uri=/graphiql/')"
     ]
    }
   ],
   "source": [
    "async def send_gql_query():\n",
    "    async with aiohttp.ClientSession() as session:\n",
    "        async with session.post('http://localhost:33001/graphiql/', json={'query': gql_query}) as response:\n",
    "            data = await response.json()\n",
    "    return data\n",
    "\n",
    "async def main():\n",
    "    response_data = await send_gql_query()\n",
    "    print(response_data)\n",
    "\n",
    "await main()\n",
    "# asyncio.run(main())\n",
    "\n",
    "# TODO"
   ]
  },
  {
   "cell_type": "code",
   "execution_count": 9,
   "id": "a822663e",
   "metadata": {},
   "outputs": [
    {
     "name": "stdout",
     "output_type": "stream",
     "text": [
      "{'data': {'acClassificationPage': [{'id': 'ce250bd0-b095-11ed-9bd8-0242ac110002', 'student': {'id': '2d9dc5ca-a4a2-11ed-b9df-0242ac120003', 'email': 'john.newbie@world.com', 'fullname': 'John Newbie', 'name': 'John', 'surname': 'Newbie'}, 'semester': {'id': 'ce250af4-b095-11ed-9bd8-0242ac110002', 'order': 1, 'subject': {'id': 'ce250a68-b095-11ed-9bd8-0242ac110002', 'name': 'Programování', 'program': {'id': '2766fc9a-b095-11ed-9bd8-0242ac110002', 'name': 'IT Technologie'}}}, 'level': {'id': '5faea396-b095-11ed-9bd8-0242ac110002', 'name': 'F'}, 'date': '2023-04-19T08:00:00', 'order': 1}, {'id': 'ce250bd1-b095-11ed-9bd8-0242ac110002', 'student': {'id': '2d9dc5ca-a4a2-11ed-b9df-0242ac120003', 'email': 'john.newbie@world.com', 'fullname': 'John Newbie', 'name': 'John', 'surname': 'Newbie'}, 'semester': {'id': 'ce250af4-b095-11ed-9bd8-0242ac110002', 'order': 1, 'subject': {'id': 'ce250a68-b095-11ed-9bd8-0242ac110002', 'name': 'Programování', 'program': {'id': '2766fc9a-b095-11ed-9bd8-0242ac110002', 'name': 'IT Technologie'}}}, 'level': {'id': '5faea21a-b095-11ed-9bd8-0242ac110002', 'name': 'C'}, 'date': '2023-04-19T08:00:00', 'order': 2}]}}\n"
     ]
    }
   ],
   "source": [
    "with open('data.json', 'r') as file:\n",
    "    data = json.load(file)\n",
    "\n",
    "print(data)"
   ]
  },
  {
   "cell_type": "code",
   "execution_count": 14,
   "id": "8447643b",
   "metadata": {},
   "outputs": [
    {
     "name": "stdout",
     "output_type": "stream",
     "text": [
      "[{'level_id': '5faea396-b095-11ed-9bd8-0242ac110002', 'level_name': 'F', 'level_order': 1, 'level_date': '2023-04-19T08:00:00', 'student_id': '2d9dc5ca-a4a2-11ed-b9df-0242ac120003', 'student_email': 'john.newbie@world.com', 'subject_id': 'ce250a68-b095-11ed-9bd8-0242ac110002', 'subject_name': 'Programování', 'semestr_order': 1, 'program_id': '2766fc9a-b095-11ed-9bd8-0242ac110002', 'program_name': 'IT Technologie'}, {'level_id': '5faea21a-b095-11ed-9bd8-0242ac110002', 'level_name': 'C', 'level_order': 2, 'level_date': '2023-04-19T08:00:00', 'student_id': '2d9dc5ca-a4a2-11ed-b9df-0242ac120003', 'student_email': 'john.newbie@world.com', 'subject_id': 'ce250a68-b095-11ed-9bd8-0242ac110002', 'subject_name': 'Programování', 'semestr_order': 1, 'program_id': '2766fc9a-b095-11ed-9bd8-0242ac110002', 'program_name': 'IT Technologie'}]\n"
     ]
    }
   ],
   "source": [
    "grouped_data = []\n",
    "\n",
    "for level in data[\"data\"][\"acClassificationPage\"]:\n",
    "    row = {}\n",
    "    row[\"level_id\"] = level[\"level\"][\"id\"]\n",
    "    row[\"level_name\"] = level[\"level\"][\"name\"]\n",
    "    row[\"level_order\"] = level[\"order\"]\n",
    "    row[\"level_date\"] = level[\"date\"]\n",
    "    \n",
    "    row[\"student_id\"] = level[\"student\"][\"id\"]\n",
    "    row[\"student_email\"] = level[\"student\"][\"email\"] \n",
    "\n",
    "    row[\"subject_id\"] = level[\"semester\"][\"subject\"][\"id\"]\n",
    "    row[\"subject_name\"] = level[\"semester\"][\"subject\"][\"name\"] \n",
    "    row[\"semestr_order\"] = level['semester']['order']\n",
    "    \n",
    "    row[\"program_id\"] = level[\"semester\"][\"subject\"][\"program\"][\"id\"]\n",
    "    row[\"program_name\"] = level[\"semester\"][\"subject\"][\"program\"][\"name\"]\n",
    "    \n",
    "    grouped_data.append(row)\n",
    "\n",
    "print(grouped_data)\n",
    "\n",
    "with open(\"grouped_data.json\", \"w\") as json_file:\n",
    "    json.dump(grouped_data, json_file)"
   ]
  },
  {
   "cell_type": "code",
   "execution_count": 17,
   "id": "84f54bfa",
   "metadata": {},
   "outputs": [
    {
     "name": "stdout",
     "output_type": "stream",
     "text": [
      "{'level_id': '5faea21a-b095-11ed-9bd8-0242ac110002', 'level_name': 'C', 'level_order': 2, 'level_date': '2023-04-19T08:00:00', 'student_id': '2d9dc5ca-a4a2-11ed-b9df-0242ac120003', 'student_email': 'john.newbie@world.com', 'subject_id': 'ce250a68-b095-11ed-9bd8-0242ac110002', 'subject_name': 'Programování', 'semestr_order': 1, 'program_id': '2766fc9a-b095-11ed-9bd8-0242ac110002', 'program_name': 'IT Technologie'}\n"
     ]
    }
   ],
   "source": [
    "def convertLevel(level):\n",
    "    row = {}\n",
    "    \n",
    "    row[\"level_id\"] = level[\"level\"][\"id\"]\n",
    "    row[\"level_name\"] = level[\"level\"][\"name\"]\n",
    "    row[\"level_order\"] = level[\"order\"]\n",
    "    row[\"level_date\"] = level[\"date\"]\n",
    "    \n",
    "    row[\"student_id\"] = level[\"student\"][\"id\"]  \n",
    "    row[\"student_email\"] = level[\"student\"][\"email\"]  \n",
    "    \n",
    "    row[\"subject_id\"] = level[\"semester\"][\"subject\"][\"id\"]  \n",
    "    row[\"subject_name\"] = level[\"semester\"][\"subject\"][\"name\"]   \n",
    "    row[\"semestr_order\"] = level['semester']['order']\n",
    "    \n",
    "    row[\"program_id\"] = level[\"semester\"][\"subject\"][\"program\"][\"id\"]  \n",
    "    row[\"program_name\"] = level[\"semester\"][\"subject\"][\"program\"][\"name\"]\n",
    "    return row\n",
    "\n",
    "print(convertLevel(level))\n",
    "\n",
    "with open(\"grouped_data.json\", \"w\") as json_file:\n",
    "    json.dump(convertLevel(level), json_file)"
   ]
  },
  {
   "cell_type": "code",
   "execution_count": null,
   "id": "241e745a",
   "metadata": {},
   "outputs": [],
   "source": []
  }
 ],
 "metadata": {
  "kernelspec": {
   "display_name": "Python 3 (ipykernel)",
   "language": "python",
   "name": "python3"
  },
  "language_info": {
   "codemirror_mode": {
    "name": "ipython",
    "version": 3
   },
   "file_extension": ".py",
   "mimetype": "text/x-python",
   "name": "python",
   "nbconvert_exporter": "python",
   "pygments_lexer": "ipython3",
   "version": "3.10.0"
  }
 },
 "nbformat": 4,
 "nbformat_minor": 5
}
